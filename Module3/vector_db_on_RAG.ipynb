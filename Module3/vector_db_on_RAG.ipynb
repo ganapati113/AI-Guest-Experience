{
  "cells": [
    {
      "cell_type": "code",
      "execution_count": 1,
      "id": "e4d25961-6a00-47ef-ab2c-b7e203baf31f",
      "metadata": {
        "colab": {
          "base_uri": "https://localhost:8080/"
        },
        "id": "e4d25961-6a00-47ef-ab2c-b7e203baf31f",
        "outputId": "324c277f-7726-4584-a9c5-2b4480219efe"
      },
      "outputs": [
        {
          "name": "stdout",
          "output_type": "stream",
          "text": [
            "Collecting langchain_together\n",
            "  Downloading langchain_together-0.3.0-py3-none-any.whl.metadata (1.9 kB)\n",
            "Requirement already satisfied: aiohttp<4.0.0,>=3.9.1 in /usr/local/lib/python3.11/dist-packages (from langchain_together) (3.11.13)\n",
            "Requirement already satisfied: langchain-core<0.4.0,>=0.3.29 in /usr/local/lib/python3.11/dist-packages (from langchain_together) (0.3.40)\n",
            "Collecting langchain-openai<0.4,>=0.3 (from langchain_together)\n",
            "  Downloading langchain_openai-0.3.7-py3-none-any.whl.metadata (2.3 kB)\n",
            "Requirement already satisfied: requests<3,>=2 in /usr/local/lib/python3.11/dist-packages (from langchain_together) (2.32.3)\n",
            "Requirement already satisfied: aiohappyeyeballs>=2.3.0 in /usr/local/lib/python3.11/dist-packages (from aiohttp<4.0.0,>=3.9.1->langchain_together) (2.4.6)\n",
            "Requirement already satisfied: aiosignal>=1.1.2 in /usr/local/lib/python3.11/dist-packages (from aiohttp<4.0.0,>=3.9.1->langchain_together) (1.3.2)\n",
            "Requirement already satisfied: attrs>=17.3.0 in /usr/local/lib/python3.11/dist-packages (from aiohttp<4.0.0,>=3.9.1->langchain_together) (25.1.0)\n",
            "Requirement already satisfied: frozenlist>=1.1.1 in /usr/local/lib/python3.11/dist-packages (from aiohttp<4.0.0,>=3.9.1->langchain_together) (1.5.0)\n",
            "Requirement already satisfied: multidict<7.0,>=4.5 in /usr/local/lib/python3.11/dist-packages (from aiohttp<4.0.0,>=3.9.1->langchain_together) (6.1.0)\n",
            "Requirement already satisfied: propcache>=0.2.0 in /usr/local/lib/python3.11/dist-packages (from aiohttp<4.0.0,>=3.9.1->langchain_together) (0.3.0)\n",
            "Requirement already satisfied: yarl<2.0,>=1.17.0 in /usr/local/lib/python3.11/dist-packages (from aiohttp<4.0.0,>=3.9.1->langchain_together) (1.18.3)\n",
            "Requirement already satisfied: langsmith<0.4,>=0.1.125 in /usr/local/lib/python3.11/dist-packages (from langchain-core<0.4.0,>=0.3.29->langchain_together) (0.3.11)\n",
            "Requirement already satisfied: tenacity!=8.4.0,<10.0.0,>=8.1.0 in /usr/local/lib/python3.11/dist-packages (from langchain-core<0.4.0,>=0.3.29->langchain_together) (9.0.0)\n",
            "Requirement already satisfied: jsonpatch<2.0,>=1.33 in /usr/local/lib/python3.11/dist-packages (from langchain-core<0.4.0,>=0.3.29->langchain_together) (1.33)\n",
            "Requirement already satisfied: PyYAML>=5.3 in /usr/local/lib/python3.11/dist-packages (from langchain-core<0.4.0,>=0.3.29->langchain_together) (6.0.2)\n",
            "Requirement already satisfied: packaging<25,>=23.2 in /usr/local/lib/python3.11/dist-packages (from langchain-core<0.4.0,>=0.3.29->langchain_together) (24.2)\n",
            "Requirement already satisfied: typing-extensions>=4.7 in /usr/local/lib/python3.11/dist-packages (from langchain-core<0.4.0,>=0.3.29->langchain_together) (4.12.2)\n",
            "Requirement already satisfied: pydantic<3.0.0,>=2.5.2 in /usr/local/lib/python3.11/dist-packages (from langchain-core<0.4.0,>=0.3.29->langchain_together) (2.10.6)\n",
            "Requirement already satisfied: openai<2.0.0,>=1.58.1 in /usr/local/lib/python3.11/dist-packages (from langchain-openai<0.4,>=0.3->langchain_together) (1.61.1)\n",
            "Collecting tiktoken<1,>=0.7 (from langchain-openai<0.4,>=0.3->langchain_together)\n",
            "  Downloading tiktoken-0.9.0-cp311-cp311-manylinux_2_17_x86_64.manylinux2014_x86_64.whl.metadata (6.7 kB)\n",
            "Requirement already satisfied: charset-normalizer<4,>=2 in /usr/local/lib/python3.11/dist-packages (from requests<3,>=2->langchain_together) (3.4.1)\n",
            "Requirement already satisfied: idna<4,>=2.5 in /usr/local/lib/python3.11/dist-packages (from requests<3,>=2->langchain_together) (3.10)\n",
            "Requirement already satisfied: urllib3<3,>=1.21.1 in /usr/local/lib/python3.11/dist-packages (from requests<3,>=2->langchain_together) (2.3.0)\n",
            "Requirement already satisfied: certifi>=2017.4.17 in /usr/local/lib/python3.11/dist-packages (from requests<3,>=2->langchain_together) (2025.1.31)\n",
            "Requirement already satisfied: jsonpointer>=1.9 in /usr/local/lib/python3.11/dist-packages (from jsonpatch<2.0,>=1.33->langchain-core<0.4.0,>=0.3.29->langchain_together) (3.0.0)\n",
            "Requirement already satisfied: httpx<1,>=0.23.0 in /usr/local/lib/python3.11/dist-packages (from langsmith<0.4,>=0.1.125->langchain-core<0.4.0,>=0.3.29->langchain_together) (0.28.1)\n",
            "Requirement already satisfied: orjson<4.0.0,>=3.9.14 in /usr/local/lib/python3.11/dist-packages (from langsmith<0.4,>=0.1.125->langchain-core<0.4.0,>=0.3.29->langchain_together) (3.10.15)\n",
            "Requirement already satisfied: requests-toolbelt<2.0.0,>=1.0.0 in /usr/local/lib/python3.11/dist-packages (from langsmith<0.4,>=0.1.125->langchain-core<0.4.0,>=0.3.29->langchain_together) (1.0.0)\n",
            "Requirement already satisfied: zstandard<0.24.0,>=0.23.0 in /usr/local/lib/python3.11/dist-packages (from langsmith<0.4,>=0.1.125->langchain-core<0.4.0,>=0.3.29->langchain_together) (0.23.0)\n",
            "Requirement already satisfied: anyio<5,>=3.5.0 in /usr/local/lib/python3.11/dist-packages (from openai<2.0.0,>=1.58.1->langchain-openai<0.4,>=0.3->langchain_together) (3.7.1)\n",
            "Requirement already satisfied: distro<2,>=1.7.0 in /usr/local/lib/python3.11/dist-packages (from openai<2.0.0,>=1.58.1->langchain-openai<0.4,>=0.3->langchain_together) (1.9.0)\n",
            "Requirement already satisfied: jiter<1,>=0.4.0 in /usr/local/lib/python3.11/dist-packages (from openai<2.0.0,>=1.58.1->langchain-openai<0.4,>=0.3->langchain_together) (0.8.2)\n",
            "Requirement already satisfied: sniffio in /usr/local/lib/python3.11/dist-packages (from openai<2.0.0,>=1.58.1->langchain-openai<0.4,>=0.3->langchain_together) (1.3.1)\n",
            "Requirement already satisfied: tqdm>4 in /usr/local/lib/python3.11/dist-packages (from openai<2.0.0,>=1.58.1->langchain-openai<0.4,>=0.3->langchain_together) (4.67.1)\n",
            "Requirement already satisfied: annotated-types>=0.6.0 in /usr/local/lib/python3.11/dist-packages (from pydantic<3.0.0,>=2.5.2->langchain-core<0.4.0,>=0.3.29->langchain_together) (0.7.0)\n",
            "Requirement already satisfied: pydantic-core==2.27.2 in /usr/local/lib/python3.11/dist-packages (from pydantic<3.0.0,>=2.5.2->langchain-core<0.4.0,>=0.3.29->langchain_together) (2.27.2)\n",
            "Requirement already satisfied: regex>=2022.1.18 in /usr/local/lib/python3.11/dist-packages (from tiktoken<1,>=0.7->langchain-openai<0.4,>=0.3->langchain_together) (2024.11.6)\n",
            "Requirement already satisfied: httpcore==1.* in /usr/local/lib/python3.11/dist-packages (from httpx<1,>=0.23.0->langsmith<0.4,>=0.1.125->langchain-core<0.4.0,>=0.3.29->langchain_together) (1.0.7)\n",
            "Requirement already satisfied: h11<0.15,>=0.13 in /usr/local/lib/python3.11/dist-packages (from httpcore==1.*->httpx<1,>=0.23.0->langsmith<0.4,>=0.1.125->langchain-core<0.4.0,>=0.3.29->langchain_together) (0.14.0)\n",
            "Downloading langchain_together-0.3.0-py3-none-any.whl (12 kB)\n",
            "Downloading langchain_openai-0.3.7-py3-none-any.whl (55 kB)\n",
            "\u001b[2K   \u001b[90m━━━━━━━━━━━━━━━━━━━━━━━━━━━━━━━━━━━━━━━━\u001b[0m \u001b[32m55.3/55.3 kB\u001b[0m \u001b[31m2.0 MB/s\u001b[0m eta \u001b[36m0:00:00\u001b[0m\n",
            "\u001b[?25hDownloading tiktoken-0.9.0-cp311-cp311-manylinux_2_17_x86_64.manylinux2014_x86_64.whl (1.2 MB)\n",
            "\u001b[2K   \u001b[90m━━━━━━━━━━━━━━━━━━━━━━━━━━━━━━━━━━━━━━━━\u001b[0m \u001b[32m1.2/1.2 MB\u001b[0m \u001b[31m16.3 MB/s\u001b[0m eta \u001b[36m0:00:00\u001b[0m\n",
            "\u001b[?25hInstalling collected packages: tiktoken, langchain-openai, langchain_together\n",
            "Successfully installed langchain-openai-0.3.7 langchain_together-0.3.0 tiktoken-0.9.0\n"
          ]
        }
      ],
      "source": [
        "pip install langchain_together"
      ]
    },
    {
      "cell_type": "code",
      "execution_count": 2,
      "id": "13d2180d-61a7-4213-b703-012cc7d0c770",
      "metadata": {
        "id": "13d2180d-61a7-4213-b703-012cc7d0c770"
      },
      "outputs": [],
      "source": [
        "from langchain_together import TogetherEmbeddings\n",
        "import pandas as pd\n",
        "import numpy as np"
      ]
    },
    {
      "cell_type": "code",
      "execution_count": 4,
      "id": "9a45720b-685c-46f1-be12-0dfea660c036",
      "metadata": {
        "id": "9a45720b-685c-46f1-be12-0dfea660c036"
      },
      "outputs": [],
      "source": [
        "df = pd.read_excel('reviews_data.xlsx')"
      ]
    },
    {
      "cell_type": "code",
      "execution_count": 5,
      "id": "36c33ea1-46fb-4272-960e-697b2dac017f",
      "metadata": {
        "colab": {
          "base_uri": "https://localhost:8080/",
          "height": 1000
        },
        "id": "36c33ea1-46fb-4272-960e-697b2dac017f",
        "outputId": "84ae2f62-1c2d-4cd2-a840-a037ec8c68d1"
      },
      "outputs": [
        {
          "data": {
            "application/vnd.google.colaboratory.intrinsic+json": {
              "summary": "{\n  \"name\": \"df\",\n  \"rows\": 8382,\n  \"fields\": [\n    {\n      \"column\": \"review_id\",\n      \"properties\": {\n        \"dtype\": \"number\",\n        \"std\": 3446,\n        \"min\": 0,\n        \"max\": 11962,\n        \"num_unique_values\": 8382,\n        \"samples\": [\n          7910,\n          6753,\n          10602\n        ],\n        \"semantic_type\": \"\",\n        \"description\": \"\"\n      }\n    },\n    {\n      \"column\": \"customer_id\",\n      \"properties\": {\n        \"dtype\": \"number\",\n        \"std\": 2586,\n        \"min\": 1,\n        \"max\": 9000,\n        \"num_unique_values\": 5442,\n        \"samples\": [\n          5203,\n          4916,\n          3859\n        ],\n        \"semantic_type\": \"\",\n        \"description\": \"\"\n      }\n    },\n    {\n      \"column\": \"review_date\",\n      \"properties\": {\n        \"dtype\": \"object\",\n        \"num_unique_values\": 731,\n        \"samples\": [\n          \"2023-03-03\",\n          \"2024-05-19\",\n          \"2024-06-12\"\n        ],\n        \"semantic_type\": \"\",\n        \"description\": \"\"\n      }\n    },\n    {\n      \"column\": \"Review\",\n      \"properties\": {\n        \"dtype\": \"string\",\n        \"num_unique_values\": 8381,\n        \"samples\": [\n          \" Nothing   I travelled in a group and I couldn t fault the hotel at all The staff couldn t do enough to help Lynn was especially helpful The rooms are lovely and the beds so comfortable The pool on the rooftop terrace was a bonus and so relaxing after a busy day I would definitely go back to this hotel on my next trip to Barcelona \",\n          \" The bacon that is available as a part of the otherwise good breakfast remains soggy Apparently the challenge of allowing air to enter the bacon space is too great I have complained about this before and was thanked graciously   The room was very pleasant with a balcony and good seats to benefit from the occasional sun The tram connection to the city centre is convenient \",\n          \" The glass doors to the bathroom I travelled with 2 teenage girls who were very self conscious and wouldn t use the loo as it was right next to the opaque glass panel   The hob microwave fridge and sink All very useful if you are staying longer than one night Can t fault the cleanliness and the beds were nice and comfy too We were on the lower ground floor so wifi wasn t too good but overall the place is lovely Perfect location for us Less than a 5 minute walk to Olympia and train station \"\n        ],\n        \"semantic_type\": \"\",\n        \"description\": \"\"\n      }\n    },\n    {\n      \"column\": \"Rating\",\n      \"properties\": {\n        \"dtype\": \"number\",\n        \"std\": 1.863275676524724,\n        \"min\": 2.5,\n        \"max\": 10.0,\n        \"num_unique_values\": 35,\n        \"samples\": [\n          6.9,\n          5.8,\n          9.5\n        ],\n        \"semantic_type\": \"\",\n        \"description\": \"\"\n      }\n    },\n    {\n      \"column\": \"review_date_numeric\",\n      \"properties\": {\n        \"dtype\": \"number\",\n        \"std\": 4907,\n        \"min\": 20230101,\n        \"max\": 20241231,\n        \"num_unique_values\": 731,\n        \"samples\": [\n          20230303,\n          20240519,\n          20240612\n        ],\n        \"semantic_type\": \"\",\n        \"description\": \"\"\n      }\n    }\n  ]\n}",
              "type": "dataframe",
              "variable_name": "df"
            },
            "text/html": [
              "\n",
              "  <div id=\"df-325471b9-521b-44c0-9e02-7d73b92517d1\" class=\"colab-df-container\">\n",
              "    <div>\n",
              "<style scoped>\n",
              "    .dataframe tbody tr th:only-of-type {\n",
              "        vertical-align: middle;\n",
              "    }\n",
              "\n",
              "    .dataframe tbody tr th {\n",
              "        vertical-align: top;\n",
              "    }\n",
              "\n",
              "    .dataframe thead th {\n",
              "        text-align: right;\n",
              "    }\n",
              "</style>\n",
              "<table border=\"1\" class=\"dataframe\">\n",
              "  <thead>\n",
              "    <tr style=\"text-align: right;\">\n",
              "      <th></th>\n",
              "      <th>review_id</th>\n",
              "      <th>customer_id</th>\n",
              "      <th>review_date</th>\n",
              "      <th>Review</th>\n",
              "      <th>Rating</th>\n",
              "      <th>review_date_numeric</th>\n",
              "    </tr>\n",
              "  </thead>\n",
              "  <tbody>\n",
              "    <tr>\n",
              "      <th>0</th>\n",
              "      <td>11722</td>\n",
              "      <td>5380</td>\n",
              "      <td>2024-11-04</td>\n",
              "      <td>The room provided at first was a great disapp...</td>\n",
              "      <td>6.7</td>\n",
              "      <td>20241104</td>\n",
              "    </tr>\n",
              "    <tr>\n",
              "      <th>1</th>\n",
              "      <td>8604</td>\n",
              "      <td>8832</td>\n",
              "      <td>2024-03-01</td>\n",
              "      <td>The room wasn t so large for a Deluxe King bu...</td>\n",
              "      <td>9.6</td>\n",
              "      <td>20240301</td>\n",
              "    </tr>\n",
              "    <tr>\n",
              "      <th>2</th>\n",
              "      <td>3923</td>\n",
              "      <td>7301</td>\n",
              "      <td>2023-09-04</td>\n",
              "      <td>on arrival we had to wait over an hour after ...</td>\n",
              "      <td>7.1</td>\n",
              "      <td>20230904</td>\n",
              "    </tr>\n",
              "    <tr>\n",
              "      <th>3</th>\n",
              "      <td>10050</td>\n",
              "      <td>3968</td>\n",
              "      <td>2023-09-02</td>\n",
              "      <td>The room reminded me of a dorm room furnished...</td>\n",
              "      <td>7.9</td>\n",
              "      <td>20230902</td>\n",
              "    </tr>\n",
              "    <tr>\n",
              "      <th>4</th>\n",
              "      <td>2077</td>\n",
              "      <td>6085</td>\n",
              "      <td>2024-05-17</td>\n",
              "      <td>The room was very small the AC didn t work at...</td>\n",
              "      <td>8.8</td>\n",
              "      <td>20240517</td>\n",
              "    </tr>\n",
              "    <tr>\n",
              "      <th>...</th>\n",
              "      <td>...</td>\n",
              "      <td>...</td>\n",
              "      <td>...</td>\n",
              "      <td>...</td>\n",
              "      <td>...</td>\n",
              "      <td>...</td>\n",
              "    </tr>\n",
              "    <tr>\n",
              "      <th>8377</th>\n",
              "      <td>5928</td>\n",
              "      <td>1546</td>\n",
              "      <td>2023-04-30</td>\n",
              "      <td>Bathroom and toilet are small but spotlessly ...</td>\n",
              "      <td>10.0</td>\n",
              "      <td>20230430</td>\n",
              "    </tr>\n",
              "    <tr>\n",
              "      <th>8378</th>\n",
              "      <td>7439</td>\n",
              "      <td>4787</td>\n",
              "      <td>2024-01-30</td>\n",
              "      <td>Heating system in the room instructions on ho...</td>\n",
              "      <td>9.2</td>\n",
              "      <td>20240130</td>\n",
              "    </tr>\n",
              "    <tr>\n",
              "      <th>8379</th>\n",
              "      <td>339</td>\n",
              "      <td>4936</td>\n",
              "      <td>2024-10-11</td>\n",
              "      <td>Entering the hotel involved crossing an open ...</td>\n",
              "      <td>9.2</td>\n",
              "      <td>20241011</td>\n",
              "    </tr>\n",
              "    <tr>\n",
              "      <th>8380</th>\n",
              "      <td>6816</td>\n",
              "      <td>8542</td>\n",
              "      <td>2024-09-01</td>\n",
              "      <td>The hotel is very old Room are out of date an...</td>\n",
              "      <td>4.2</td>\n",
              "      <td>20240901</td>\n",
              "    </tr>\n",
              "    <tr>\n",
              "      <th>8381</th>\n",
              "      <td>3429</td>\n",
              "      <td>1971</td>\n",
              "      <td>2024-10-15</td>\n",
              "      <td>The staff members were very friendly and hel...</td>\n",
              "      <td>10.0</td>\n",
              "      <td>20241015</td>\n",
              "    </tr>\n",
              "  </tbody>\n",
              "</table>\n",
              "<p>8382 rows × 6 columns</p>\n",
              "</div>\n",
              "    <div class=\"colab-df-buttons\">\n",
              "\n",
              "  <div class=\"colab-df-container\">\n",
              "    <button class=\"colab-df-convert\" onclick=\"convertToInteractive('df-325471b9-521b-44c0-9e02-7d73b92517d1')\"\n",
              "            title=\"Convert this dataframe to an interactive table.\"\n",
              "            style=\"display:none;\">\n",
              "\n",
              "  <svg xmlns=\"http://www.w3.org/2000/svg\" height=\"24px\" viewBox=\"0 -960 960 960\">\n",
              "    <path d=\"M120-120v-720h720v720H120Zm60-500h600v-160H180v160Zm220 220h160v-160H400v160Zm0 220h160v-160H400v160ZM180-400h160v-160H180v160Zm440 0h160v-160H620v160ZM180-180h160v-160H180v160Zm440 0h160v-160H620v160Z\"/>\n",
              "  </svg>\n",
              "    </button>\n",
              "\n",
              "  <style>\n",
              "    .colab-df-container {\n",
              "      display:flex;\n",
              "      gap: 12px;\n",
              "    }\n",
              "\n",
              "    .colab-df-convert {\n",
              "      background-color: #E8F0FE;\n",
              "      border: none;\n",
              "      border-radius: 50%;\n",
              "      cursor: pointer;\n",
              "      display: none;\n",
              "      fill: #1967D2;\n",
              "      height: 32px;\n",
              "      padding: 0 0 0 0;\n",
              "      width: 32px;\n",
              "    }\n",
              "\n",
              "    .colab-df-convert:hover {\n",
              "      background-color: #E2EBFA;\n",
              "      box-shadow: 0px 1px 2px rgba(60, 64, 67, 0.3), 0px 1px 3px 1px rgba(60, 64, 67, 0.15);\n",
              "      fill: #174EA6;\n",
              "    }\n",
              "\n",
              "    .colab-df-buttons div {\n",
              "      margin-bottom: 4px;\n",
              "    }\n",
              "\n",
              "    [theme=dark] .colab-df-convert {\n",
              "      background-color: #3B4455;\n",
              "      fill: #D2E3FC;\n",
              "    }\n",
              "\n",
              "    [theme=dark] .colab-df-convert:hover {\n",
              "      background-color: #434B5C;\n",
              "      box-shadow: 0px 1px 3px 1px rgba(0, 0, 0, 0.15);\n",
              "      filter: drop-shadow(0px 1px 2px rgba(0, 0, 0, 0.3));\n",
              "      fill: #FFFFFF;\n",
              "    }\n",
              "  </style>\n",
              "\n",
              "    <script>\n",
              "      const buttonEl =\n",
              "        document.querySelector('#df-325471b9-521b-44c0-9e02-7d73b92517d1 button.colab-df-convert');\n",
              "      buttonEl.style.display =\n",
              "        google.colab.kernel.accessAllowed ? 'block' : 'none';\n",
              "\n",
              "      async function convertToInteractive(key) {\n",
              "        const element = document.querySelector('#df-325471b9-521b-44c0-9e02-7d73b92517d1');\n",
              "        const dataTable =\n",
              "          await google.colab.kernel.invokeFunction('convertToInteractive',\n",
              "                                                    [key], {});\n",
              "        if (!dataTable) return;\n",
              "\n",
              "        const docLinkHtml = 'Like what you see? Visit the ' +\n",
              "          '<a target=\"_blank\" href=https://colab.research.google.com/notebooks/data_table.ipynb>data table notebook</a>'\n",
              "          + ' to learn more about interactive tables.';\n",
              "        element.innerHTML = '';\n",
              "        dataTable['output_type'] = 'display_data';\n",
              "        await google.colab.output.renderOutput(dataTable, element);\n",
              "        const docLink = document.createElement('div');\n",
              "        docLink.innerHTML = docLinkHtml;\n",
              "        element.appendChild(docLink);\n",
              "      }\n",
              "    </script>\n",
              "  </div>\n",
              "\n",
              "\n",
              "<div id=\"df-56c94e18-63e0-4585-8dca-5e8999a283d8\">\n",
              "  <button class=\"colab-df-quickchart\" onclick=\"quickchart('df-56c94e18-63e0-4585-8dca-5e8999a283d8')\"\n",
              "            title=\"Suggest charts\"\n",
              "            style=\"display:none;\">\n",
              "\n",
              "<svg xmlns=\"http://www.w3.org/2000/svg\" height=\"24px\"viewBox=\"0 0 24 24\"\n",
              "     width=\"24px\">\n",
              "    <g>\n",
              "        <path d=\"M19 3H5c-1.1 0-2 .9-2 2v14c0 1.1.9 2 2 2h14c1.1 0 2-.9 2-2V5c0-1.1-.9-2-2-2zM9 17H7v-7h2v7zm4 0h-2V7h2v10zm4 0h-2v-4h2v4z\"/>\n",
              "    </g>\n",
              "</svg>\n",
              "  </button>\n",
              "\n",
              "<style>\n",
              "  .colab-df-quickchart {\n",
              "      --bg-color: #E8F0FE;\n",
              "      --fill-color: #1967D2;\n",
              "      --hover-bg-color: #E2EBFA;\n",
              "      --hover-fill-color: #174EA6;\n",
              "      --disabled-fill-color: #AAA;\n",
              "      --disabled-bg-color: #DDD;\n",
              "  }\n",
              "\n",
              "  [theme=dark] .colab-df-quickchart {\n",
              "      --bg-color: #3B4455;\n",
              "      --fill-color: #D2E3FC;\n",
              "      --hover-bg-color: #434B5C;\n",
              "      --hover-fill-color: #FFFFFF;\n",
              "      --disabled-bg-color: #3B4455;\n",
              "      --disabled-fill-color: #666;\n",
              "  }\n",
              "\n",
              "  .colab-df-quickchart {\n",
              "    background-color: var(--bg-color);\n",
              "    border: none;\n",
              "    border-radius: 50%;\n",
              "    cursor: pointer;\n",
              "    display: none;\n",
              "    fill: var(--fill-color);\n",
              "    height: 32px;\n",
              "    padding: 0;\n",
              "    width: 32px;\n",
              "  }\n",
              "\n",
              "  .colab-df-quickchart:hover {\n",
              "    background-color: var(--hover-bg-color);\n",
              "    box-shadow: 0 1px 2px rgba(60, 64, 67, 0.3), 0 1px 3px 1px rgba(60, 64, 67, 0.15);\n",
              "    fill: var(--button-hover-fill-color);\n",
              "  }\n",
              "\n",
              "  .colab-df-quickchart-complete:disabled,\n",
              "  .colab-df-quickchart-complete:disabled:hover {\n",
              "    background-color: var(--disabled-bg-color);\n",
              "    fill: var(--disabled-fill-color);\n",
              "    box-shadow: none;\n",
              "  }\n",
              "\n",
              "  .colab-df-spinner {\n",
              "    border: 2px solid var(--fill-color);\n",
              "    border-color: transparent;\n",
              "    border-bottom-color: var(--fill-color);\n",
              "    animation:\n",
              "      spin 1s steps(1) infinite;\n",
              "  }\n",
              "\n",
              "  @keyframes spin {\n",
              "    0% {\n",
              "      border-color: transparent;\n",
              "      border-bottom-color: var(--fill-color);\n",
              "      border-left-color: var(--fill-color);\n",
              "    }\n",
              "    20% {\n",
              "      border-color: transparent;\n",
              "      border-left-color: var(--fill-color);\n",
              "      border-top-color: var(--fill-color);\n",
              "    }\n",
              "    30% {\n",
              "      border-color: transparent;\n",
              "      border-left-color: var(--fill-color);\n",
              "      border-top-color: var(--fill-color);\n",
              "      border-right-color: var(--fill-color);\n",
              "    }\n",
              "    40% {\n",
              "      border-color: transparent;\n",
              "      border-right-color: var(--fill-color);\n",
              "      border-top-color: var(--fill-color);\n",
              "    }\n",
              "    60% {\n",
              "      border-color: transparent;\n",
              "      border-right-color: var(--fill-color);\n",
              "    }\n",
              "    80% {\n",
              "      border-color: transparent;\n",
              "      border-right-color: var(--fill-color);\n",
              "      border-bottom-color: var(--fill-color);\n",
              "    }\n",
              "    90% {\n",
              "      border-color: transparent;\n",
              "      border-bottom-color: var(--fill-color);\n",
              "    }\n",
              "  }\n",
              "</style>\n",
              "\n",
              "  <script>\n",
              "    async function quickchart(key) {\n",
              "      const quickchartButtonEl =\n",
              "        document.querySelector('#' + key + ' button');\n",
              "      quickchartButtonEl.disabled = true;  // To prevent multiple clicks.\n",
              "      quickchartButtonEl.classList.add('colab-df-spinner');\n",
              "      try {\n",
              "        const charts = await google.colab.kernel.invokeFunction(\n",
              "            'suggestCharts', [key], {});\n",
              "      } catch (error) {\n",
              "        console.error('Error during call to suggestCharts:', error);\n",
              "      }\n",
              "      quickchartButtonEl.classList.remove('colab-df-spinner');\n",
              "      quickchartButtonEl.classList.add('colab-df-quickchart-complete');\n",
              "    }\n",
              "    (() => {\n",
              "      let quickchartButtonEl =\n",
              "        document.querySelector('#df-56c94e18-63e0-4585-8dca-5e8999a283d8 button');\n",
              "      quickchartButtonEl.style.display =\n",
              "        google.colab.kernel.accessAllowed ? 'block' : 'none';\n",
              "    })();\n",
              "  </script>\n",
              "</div>\n",
              "\n",
              "  <div id=\"id_a67bdc1e-810e-4104-99ab-5351d0cebec8\">\n",
              "    <style>\n",
              "      .colab-df-generate {\n",
              "        background-color: #E8F0FE;\n",
              "        border: none;\n",
              "        border-radius: 50%;\n",
              "        cursor: pointer;\n",
              "        display: none;\n",
              "        fill: #1967D2;\n",
              "        height: 32px;\n",
              "        padding: 0 0 0 0;\n",
              "        width: 32px;\n",
              "      }\n",
              "\n",
              "      .colab-df-generate:hover {\n",
              "        background-color: #E2EBFA;\n",
              "        box-shadow: 0px 1px 2px rgba(60, 64, 67, 0.3), 0px 1px 3px 1px rgba(60, 64, 67, 0.15);\n",
              "        fill: #174EA6;\n",
              "      }\n",
              "\n",
              "      [theme=dark] .colab-df-generate {\n",
              "        background-color: #3B4455;\n",
              "        fill: #D2E3FC;\n",
              "      }\n",
              "\n",
              "      [theme=dark] .colab-df-generate:hover {\n",
              "        background-color: #434B5C;\n",
              "        box-shadow: 0px 1px 3px 1px rgba(0, 0, 0, 0.15);\n",
              "        filter: drop-shadow(0px 1px 2px rgba(0, 0, 0, 0.3));\n",
              "        fill: #FFFFFF;\n",
              "      }\n",
              "    </style>\n",
              "    <button class=\"colab-df-generate\" onclick=\"generateWithVariable('df')\"\n",
              "            title=\"Generate code using this dataframe.\"\n",
              "            style=\"display:none;\">\n",
              "\n",
              "  <svg xmlns=\"http://www.w3.org/2000/svg\" height=\"24px\"viewBox=\"0 0 24 24\"\n",
              "       width=\"24px\">\n",
              "    <path d=\"M7,19H8.4L18.45,9,17,7.55,7,17.6ZM5,21V16.75L18.45,3.32a2,2,0,0,1,2.83,0l1.4,1.43a1.91,1.91,0,0,1,.58,1.4,1.91,1.91,0,0,1-.58,1.4L9.25,21ZM18.45,9,17,7.55Zm-12,3A5.31,5.31,0,0,0,4.9,8.1,5.31,5.31,0,0,0,1,6.5,5.31,5.31,0,0,0,4.9,4.9,5.31,5.31,0,0,0,6.5,1,5.31,5.31,0,0,0,8.1,4.9,5.31,5.31,0,0,0,12,6.5,5.46,5.46,0,0,0,6.5,12Z\"/>\n",
              "  </svg>\n",
              "    </button>\n",
              "    <script>\n",
              "      (() => {\n",
              "      const buttonEl =\n",
              "        document.querySelector('#id_a67bdc1e-810e-4104-99ab-5351d0cebec8 button.colab-df-generate');\n",
              "      buttonEl.style.display =\n",
              "        google.colab.kernel.accessAllowed ? 'block' : 'none';\n",
              "\n",
              "      buttonEl.onclick = () => {\n",
              "        google.colab.notebook.generateWithVariable('df');\n",
              "      }\n",
              "      })();\n",
              "    </script>\n",
              "  </div>\n",
              "\n",
              "    </div>\n",
              "  </div>\n"
            ],
            "text/plain": [
              "      review_id  customer_id review_date  \\\n",
              "0         11722         5380  2024-11-04   \n",
              "1          8604         8832  2024-03-01   \n",
              "2          3923         7301  2023-09-04   \n",
              "3         10050         3968  2023-09-02   \n",
              "4          2077         6085  2024-05-17   \n",
              "...         ...          ...         ...   \n",
              "8377       5928         1546  2023-04-30   \n",
              "8378       7439         4787  2024-01-30   \n",
              "8379        339         4936  2024-10-11   \n",
              "8380       6816         8542  2024-09-01   \n",
              "8381       3429         1971  2024-10-15   \n",
              "\n",
              "                                                 Review  Rating  \\\n",
              "0      The room provided at first was a great disapp...     6.7   \n",
              "1      The room wasn t so large for a Deluxe King bu...     9.6   \n",
              "2      on arrival we had to wait over an hour after ...     7.1   \n",
              "3      The room reminded me of a dorm room furnished...     7.9   \n",
              "4      The room was very small the AC didn t work at...     8.8   \n",
              "...                                                 ...     ...   \n",
              "8377   Bathroom and toilet are small but spotlessly ...    10.0   \n",
              "8378   Heating system in the room instructions on ho...     9.2   \n",
              "8379   Entering the hotel involved crossing an open ...     9.2   \n",
              "8380   The hotel is very old Room are out of date an...     4.2   \n",
              "8381    The staff members were very friendly and hel...    10.0   \n",
              "\n",
              "      review_date_numeric  \n",
              "0                20241104  \n",
              "1                20240301  \n",
              "2                20230904  \n",
              "3                20230902  \n",
              "4                20240517  \n",
              "...                   ...  \n",
              "8377             20230430  \n",
              "8378             20240130  \n",
              "8379             20241011  \n",
              "8380             20240901  \n",
              "8381             20241015  \n",
              "\n",
              "[8382 rows x 6 columns]"
            ]
          },
          "execution_count": 5,
          "metadata": {},
          "output_type": "execute_result"
        }
      ],
      "source": [
        "df"
      ]
    },
    {
      "cell_type": "code",
      "execution_count": 6,
      "id": "203f7aa8-3331-4da8-a68b-20a45e275f28",
      "metadata": {
        "id": "203f7aa8-3331-4da8-a68b-20a45e275f28"
      },
      "outputs": [],
      "source": [
        "import os\n",
        "import getpass\n",
        "if not os.getenv(\"TOGETHER_API_KEY\"):\n",
        "    os.environ[\"TOGETHER_API_KEY\"] = \"485cd21c60235270dfc7bd18dc26039203aa712b0969ff6d565180fb91a1b42a\"\n",
        "\n",
        "# Initialize the TogetherEmbeddings model\n",
        "embeddings = TogetherEmbeddings(\n",
        "    model=\"togethercomputer/m2-bert-80M-8k-retrieval\"  # Example model; check docs for Llama-based alternatives\n",
        ")"
      ]
    },
    {
      "cell_type": "code",
      "execution_count": 7,
      "id": "dda0d8d0-5480-4635-b100-90c9a699ac90",
      "metadata": {
        "colab": {
          "base_uri": "https://localhost:8080/"
        },
        "id": "dda0d8d0-5480-4635-b100-90c9a699ac90",
        "outputId": "40cb2f5f-3a5b-410e-b6c0-39135e4e7977"
      },
      "outputs": [
        {
          "name": "stdout",
          "output_type": "stream",
          "text": [
            "Collecting pinecone\n",
            "  Downloading pinecone-6.0.1-py3-none-any.whl.metadata (8.8 kB)\n",
            "Requirement already satisfied: certifi>=2019.11.17 in /usr/local/lib/python3.11/dist-packages (from pinecone) (2025.1.31)\n",
            "Collecting pinecone-plugin-interface<0.0.8,>=0.0.7 (from pinecone)\n",
            "  Downloading pinecone_plugin_interface-0.0.7-py3-none-any.whl.metadata (1.2 kB)\n",
            "Requirement already satisfied: python-dateutil>=2.5.3 in /usr/local/lib/python3.11/dist-packages (from pinecone) (2.8.2)\n",
            "Requirement already satisfied: typing-extensions>=3.7.4 in /usr/local/lib/python3.11/dist-packages (from pinecone) (4.12.2)\n",
            "Requirement already satisfied: urllib3>=1.26.0 in /usr/local/lib/python3.11/dist-packages (from pinecone) (2.3.0)\n",
            "Requirement already satisfied: six>=1.5 in /usr/local/lib/python3.11/dist-packages (from python-dateutil>=2.5.3->pinecone) (1.17.0)\n",
            "Downloading pinecone-6.0.1-py3-none-any.whl (421 kB)\n",
            "\u001b[2K   \u001b[90m━━━━━━━━━━━━━━━━━━━━━━━━━━━━━━━━━━━━━━━━\u001b[0m \u001b[32m421.4/421.4 kB\u001b[0m \u001b[31m6.2 MB/s\u001b[0m eta \u001b[36m0:00:00\u001b[0m\n",
            "\u001b[?25hDownloading pinecone_plugin_interface-0.0.7-py3-none-any.whl (6.2 kB)\n",
            "Installing collected packages: pinecone-plugin-interface, pinecone\n",
            "Successfully installed pinecone-6.0.1 pinecone-plugin-interface-0.0.7\n"
          ]
        }
      ],
      "source": [
        "pip install pinecone"
      ]
    },
    {
      "cell_type": "markdown",
      "id": "adf352e3-6d54-450a-a0e0-c7000260be4b",
      "metadata": {
        "id": "adf352e3-6d54-450a-a0e0-c7000260be4b"
      },
      "source": [
        "# Create embeddings for all reviews - this will take close to 1.5 - 2 hours"
      ]
    },
    {
      "cell_type": "code",
      "execution_count": 8,
      "id": "d8a198fe-fd5a-4d5b-9934-8c7b1ea8667e",
      "metadata": {
        "colab": {
          "base_uri": "https://localhost:8080/"
        },
        "id": "d8a198fe-fd5a-4d5b-9934-8c7b1ea8667e",
        "outputId": "158bda40-f1ab-4313-c705-49548e453505"
      },
      "outputs": [
        {
          "name": "stdout",
          "output_type": "stream",
          "text": [
            "Processed 128 / 8382 reviews\n",
            "Processed 256 / 8382 reviews\n",
            "Processed 384 / 8382 reviews\n",
            "Processed 512 / 8382 reviews\n",
            "Processed 640 / 8382 reviews\n",
            "Processed 768 / 8382 reviews\n",
            "Processed 896 / 8382 reviews\n",
            "Processed 1024 / 8382 reviews\n",
            "Processed 1152 / 8382 reviews\n",
            "Processed 1280 / 8382 reviews\n",
            "Processed 1408 / 8382 reviews\n",
            "Processed 1536 / 8382 reviews\n",
            "Processed 1664 / 8382 reviews\n",
            "Processed 1792 / 8382 reviews\n",
            "Processed 1920 / 8382 reviews\n",
            "Processed 2048 / 8382 reviews\n",
            "Processed 2176 / 8382 reviews\n",
            "Processed 2304 / 8382 reviews\n",
            "Processed 2432 / 8382 reviews\n",
            "Processed 2560 / 8382 reviews\n",
            "Processed 2688 / 8382 reviews\n",
            "Processed 2816 / 8382 reviews\n",
            "Processed 2944 / 8382 reviews\n",
            "Processed 3072 / 8382 reviews\n",
            "Processed 3200 / 8382 reviews\n",
            "Processed 3328 / 8382 reviews\n",
            "Processed 3456 / 8382 reviews\n",
            "Processed 3584 / 8382 reviews\n",
            "Processed 3712 / 8382 reviews\n",
            "Processed 3840 / 8382 reviews\n",
            "Processed 3968 / 8382 reviews\n",
            "Processed 4096 / 8382 reviews\n",
            "Processed 4224 / 8382 reviews\n",
            "Processed 4352 / 8382 reviews\n",
            "Processed 4480 / 8382 reviews\n",
            "Processed 4608 / 8382 reviews\n",
            "Processed 4736 / 8382 reviews\n",
            "Processed 4864 / 8382 reviews\n",
            "Processed 4992 / 8382 reviews\n",
            "Processed 5120 / 8382 reviews\n",
            "Processed 5248 / 8382 reviews\n",
            "Processed 5376 / 8382 reviews\n",
            "Processed 5504 / 8382 reviews\n",
            "Processed 5632 / 8382 reviews\n",
            "Processed 5760 / 8382 reviews\n",
            "Processed 5888 / 8382 reviews\n",
            "Processed 6016 / 8382 reviews\n",
            "Processed 6144 / 8382 reviews\n",
            "Processed 6272 / 8382 reviews\n",
            "Processed 6400 / 8382 reviews\n",
            "Processed 6528 / 8382 reviews\n",
            "Processed 6656 / 8382 reviews\n",
            "Processed 6784 / 8382 reviews\n",
            "Processed 6912 / 8382 reviews\n",
            "Processed 7040 / 8382 reviews\n",
            "Processed 7168 / 8382 reviews\n",
            "Processed 7296 / 8382 reviews\n",
            "Processed 7424 / 8382 reviews\n",
            "Processed 7552 / 8382 reviews\n",
            "Processed 7680 / 8382 reviews\n",
            "Processed 7808 / 8382 reviews\n",
            "Processed 7936 / 8382 reviews\n",
            "Processed 8064 / 8382 reviews\n",
            "Processed 8192 / 8382 reviews\n",
            "Processed 8320 / 8382 reviews\n",
            "Processed 8382 / 8382 reviews\n"
          ]
        }
      ],
      "source": [
        "reviews = df[\"Review\"].tolist()\n",
        "\n",
        "# Process embeddings in batches\n",
        "embedding_list = []\n",
        "for i in range(0, len(reviews), 128):\n",
        "    batch = reviews[i : i + 128]  # Get batch\n",
        "    batch_embeddings = embeddings.embed_documents(batch)  # Generate embeddings for batch\n",
        "    embedding_list.extend(batch_embeddings)  # Store results\n",
        "    print(f\"Processed {i + len(batch)} / {len(reviews)} reviews\")"
      ]
    },
    {
      "cell_type": "code",
      "execution_count": 9,
      "id": "244ff6f5-a350-473d-8314-63bf51f5cf00",
      "metadata": {
        "id": "244ff6f5-a350-473d-8314-63bf51f5cf00"
      },
      "outputs": [],
      "source": [
        "metadata_list = df.apply(lambda row: {\n",
        "    \"customer_id\": int(row[\"customer_id\"]),\n",
        "    \"review_date\": row[\"review_date_numeric\"],\n",
        "    \"Rating\": int(row[\"Rating\"]),\n",
        "    \"review_id\":row['review_id']\n",
        "}, axis=1).tolist()"
      ]
    },
    {
      "cell_type": "code",
      "execution_count": 10,
      "id": "06d75c91-aba0-4dd0-8186-484545aa7d90",
      "metadata": {
        "colab": {
          "base_uri": "https://localhost:8080/"
        },
        "id": "06d75c91-aba0-4dd0-8186-484545aa7d90",
        "outputId": "d00f9b1b-508d-4b35-db8c-0ea80a1a01cc"
      },
      "outputs": [
        {
          "data": {
            "text/plain": [
              "{'customer_id': 5380, 'review_date': 20241104, 'Rating': 6, 'review_id': 11722}"
            ]
          },
          "execution_count": 10,
          "metadata": {},
          "output_type": "execute_result"
        }
      ],
      "source": [
        "metadata_list[0]"
      ]
    },
    {
      "cell_type": "code",
      "execution_count": 11,
      "id": "14ba5b7d-9f25-4e58-854b-27e5646c5a2e",
      "metadata": {
        "id": "14ba5b7d-9f25-4e58-854b-27e5646c5a2e"
      },
      "outputs": [],
      "source": [
        "from pinecone import Pinecone, ServerlessSpec\n",
        "\n",
        "pc = Pinecone(\n",
        "    api_key='pcsk_29Eoo3_PCnJn33m4dZ3ScY3xkGiV8yJu5sCbV84TKeMH1bpVPUjicBch3zWkzhVXwq2WRi'\n",
        ")"
      ]
    },
    {
      "cell_type": "markdown",
      "id": "28da6868-8738-4212-b6bb-6ee0068af5e8",
      "metadata": {
        "id": "28da6868-8738-4212-b6bb-6ee0068af5e8"
      },
      "source": [
        "# Check whether any indexes already exist"
      ]
    },
    {
      "cell_type": "code",
      "execution_count": 12,
      "id": "7f089a1c-0f94-4bea-b0b3-9f71edf7b32f",
      "metadata": {
        "colab": {
          "base_uri": "https://localhost:8080/"
        },
        "id": "7f089a1c-0f94-4bea-b0b3-9f71edf7b32f",
        "outputId": "f8498a58-0213-4a44-d838-77a12836f9a6"
      },
      "outputs": [
        {
          "data": {
            "text/plain": [
              "[]"
            ]
          },
          "execution_count": 12,
          "metadata": {},
          "output_type": "execute_result"
        }
      ],
      "source": [
        "pc.list_indexes()"
      ]
    },
    {
      "cell_type": "markdown",
      "id": "51971b6c-e95d-4325-a129-c91346eb4d4b",
      "metadata": {
        "id": "51971b6c-e95d-4325-a129-c91346eb4d4b"
      },
      "source": [
        "# create the index"
      ]
    },
    {
      "cell_type": "code",
      "execution_count": 13,
      "id": "ee91521d-d8ab-4cb1-8925-26278832f9c5",
      "metadata": {
        "colab": {
          "base_uri": "https://localhost:8080/"
        },
        "id": "ee91521d-d8ab-4cb1-8925-26278832f9c5",
        "outputId": "d190e0f4-8c5b-450a-d28a-8514902a91b3"
      },
      "outputs": [
        {
          "data": {
            "text/plain": [
              "{\n",
              "    \"name\": \"hotel-reviews\",\n",
              "    \"metric\": \"cosine\",\n",
              "    \"host\": \"hotel-reviews-9ih896w.svc.aped-4627-b74a.pinecone.io\",\n",
              "    \"spec\": {\n",
              "        \"serverless\": {\n",
              "            \"cloud\": \"aws\",\n",
              "            \"region\": \"us-east-1\"\n",
              "        }\n",
              "    },\n",
              "    \"status\": {\n",
              "        \"ready\": true,\n",
              "        \"state\": \"Ready\"\n",
              "    },\n",
              "    \"vector_type\": \"dense\",\n",
              "    \"dimension\": 768,\n",
              "    \"deletion_protection\": \"enabled\",\n",
              "    \"tags\": null\n",
              "}"
            ]
          },
          "execution_count": 13,
          "metadata": {},
          "output_type": "execute_result"
        }
      ],
      "source": [
        "pc.create_index(\n",
        "    name='hotel-reviews',\n",
        "    dimension=768,\n",
        "    metric='cosine',\n",
        "    deletion_protection='enabled',\n",
        "    spec=ServerlessSpec(\n",
        "        cloud='aws',\n",
        "        region='us-east-1'\n",
        "    )\n",
        ")"
      ]
    },
    {
      "cell_type": "code",
      "execution_count": 17,
      "id": "a8176725-450d-4c9c-a834-2e6eb136d0c0",
      "metadata": {
        "id": "a8176725-450d-4c9c-a834-2e6eb136d0c0"
      },
      "outputs": [],
      "source": [
        "index = pc.Index(host=\"https://hotel-reviews-9ih896w.svc.aped-4627-b74a.pinecone.io\")"
      ]
    },
    {
      "cell_type": "code",
      "execution_count": 18,
      "id": "3f1b25d4-01f7-4cb2-bee9-d6067d959bc1",
      "metadata": {
        "id": "3f1b25d4-01f7-4cb2-bee9-d6067d959bc1"
      },
      "outputs": [],
      "source": [
        "vectors = [\n",
        "    (str(i), embedding, metadata_list[i])\n",
        "    for i, embedding in enumerate(embedding_list)\n",
        "]"
      ]
    },
    {
      "cell_type": "markdown",
      "id": "3eb10427-9e6b-40d0-a3f0-90bca485cb0c",
      "metadata": {
        "id": "3eb10427-9e6b-40d0-a3f0-90bca485cb0c"
      },
      "source": [
        "# Insert embeddings + metadata into the index"
      ]
    },
    {
      "cell_type": "code",
      "execution_count": 19,
      "id": "7ee4f5f1-ba4e-495b-9ba2-e0cf49f1344a",
      "metadata": {
        "colab": {
          "base_uri": "https://localhost:8080/"
        },
        "id": "7ee4f5f1-ba4e-495b-9ba2-e0cf49f1344a",
        "outputId": "4147cd33-1095-4157-8a0b-3e4bc140a937"
      },
      "outputs": [
        {
          "name": "stdout",
          "output_type": "stream",
          "text": [
            "Upserted batch from 0 to 100\n",
            "Upserted batch from 100 to 200\n",
            "Upserted batch from 200 to 300\n",
            "Upserted batch from 300 to 400\n",
            "Upserted batch from 400 to 500\n",
            "Upserted batch from 500 to 600\n",
            "Upserted batch from 600 to 700\n",
            "Upserted batch from 700 to 800\n",
            "Upserted batch from 800 to 900\n",
            "Upserted batch from 900 to 1000\n",
            "Upserted batch from 1000 to 1100\n",
            "Upserted batch from 1100 to 1200\n",
            "Upserted batch from 1200 to 1300\n",
            "Upserted batch from 1300 to 1400\n",
            "Upserted batch from 1400 to 1500\n",
            "Upserted batch from 1500 to 1600\n",
            "Upserted batch from 1600 to 1700\n",
            "Upserted batch from 1700 to 1800\n",
            "Upserted batch from 1800 to 1900\n",
            "Upserted batch from 1900 to 2000\n",
            "Upserted batch from 2000 to 2100\n",
            "Upserted batch from 2100 to 2200\n",
            "Upserted batch from 2200 to 2300\n",
            "Upserted batch from 2300 to 2400\n",
            "Upserted batch from 2400 to 2500\n",
            "Upserted batch from 2500 to 2600\n",
            "Upserted batch from 2600 to 2700\n",
            "Upserted batch from 2700 to 2800\n",
            "Upserted batch from 2800 to 2900\n",
            "Upserted batch from 2900 to 3000\n",
            "Upserted batch from 3000 to 3100\n",
            "Upserted batch from 3100 to 3200\n",
            "Upserted batch from 3200 to 3300\n",
            "Upserted batch from 3300 to 3400\n",
            "Upserted batch from 3400 to 3500\n",
            "Upserted batch from 3500 to 3600\n",
            "Upserted batch from 3600 to 3700\n",
            "Upserted batch from 3700 to 3800\n",
            "Upserted batch from 3800 to 3900\n",
            "Upserted batch from 3900 to 4000\n",
            "Upserted batch from 4000 to 4100\n",
            "Upserted batch from 4100 to 4200\n",
            "Upserted batch from 4200 to 4300\n",
            "Upserted batch from 4300 to 4400\n",
            "Upserted batch from 4400 to 4500\n",
            "Upserted batch from 4500 to 4600\n",
            "Upserted batch from 4600 to 4700\n",
            "Upserted batch from 4700 to 4800\n",
            "Upserted batch from 4800 to 4900\n",
            "Upserted batch from 4900 to 5000\n",
            "Upserted batch from 5000 to 5100\n",
            "Upserted batch from 5100 to 5200\n",
            "Upserted batch from 5200 to 5300\n",
            "Upserted batch from 5300 to 5400\n",
            "Upserted batch from 5400 to 5500\n",
            "Upserted batch from 5500 to 5600\n",
            "Upserted batch from 5600 to 5700\n",
            "Upserted batch from 5700 to 5800\n",
            "Upserted batch from 5800 to 5900\n",
            "Upserted batch from 5900 to 6000\n",
            "Upserted batch from 6000 to 6100\n",
            "Upserted batch from 6100 to 6200\n",
            "Upserted batch from 6200 to 6300\n",
            "Upserted batch from 6300 to 6400\n",
            "Upserted batch from 6400 to 6500\n",
            "Upserted batch from 6500 to 6600\n",
            "Upserted batch from 6600 to 6700\n",
            "Upserted batch from 6700 to 6800\n",
            "Upserted batch from 6800 to 6900\n",
            "Upserted batch from 6900 to 7000\n",
            "Upserted batch from 7000 to 7100\n",
            "Upserted batch from 7100 to 7200\n",
            "Upserted batch from 7200 to 7300\n",
            "Upserted batch from 7300 to 7400\n",
            "Upserted batch from 7400 to 7500\n",
            "Upserted batch from 7500 to 7600\n",
            "Upserted batch from 7600 to 7700\n",
            "Upserted batch from 7700 to 7800\n",
            "Upserted batch from 7800 to 7900\n",
            "Upserted batch from 7900 to 8000\n",
            "Upserted batch from 8000 to 8100\n",
            "Upserted batch from 8100 to 8200\n",
            "Upserted batch from 8200 to 8300\n",
            "Upserted batch from 8300 to 8382\n"
          ]
        }
      ],
      "source": [
        "batch_size = 100  # Adjust this number as needed.\n",
        "\n",
        "for i in range(0, len(embedding_list), batch_size):\n",
        "    batch_vectors = [\n",
        "        (str(i + j), embedding_list[i + j], metadata_list[i + j])\n",
        "        for j in range(min(batch_size, len(embedding_list) - i))\n",
        "    ]\n",
        "    index.upsert(vectors=batch_vectors)\n",
        "    print(f\"Upserted batch from {i} to {i + len(batch_vectors)}\")"
      ]
    },
    {
      "cell_type": "markdown",
      "id": "d6ec4a71-af28-474f-b51c-509dd38e8324",
      "metadata": {
        "id": "d6ec4a71-af28-474f-b51c-509dd38e8324"
      },
      "source": [
        "# experiment with below parts"
      ]
    },
    {
      "cell_type": "code",
      "execution_count": 20,
      "id": "4303db9f-a121-4ed8-99b7-015e2d612f9f",
      "metadata": {
        "id": "4303db9f-a121-4ed8-99b7-015e2d612f9f"
      },
      "outputs": [],
      "source": [
        "query_embedding = embeddings.embed_query(\"What are some of the reviews that mention restaurant, food, lunch, breakfast, dinner\")"
      ]
    },
    {
      "cell_type": "code",
      "execution_count": 21,
      "id": "dbf07717-4240-4ed8-94ae-6a83aeedae05",
      "metadata": {
        "id": "dbf07717-4240-4ed8-94ae-6a83aeedae05"
      },
      "outputs": [],
      "source": [
        "results = index.query(\n",
        "    vector=query_embedding,\n",
        "    top_k=5,\n",
        "    namespace=\"\",\n",
        "    include_metadata=True,\n",
        "    filter={\n",
        "        \"Rating\": {\"$lte\": 9},\n",
        "        \"review_date\": {\"$gte\": 20240101, \"$lte\": 20240108}\n",
        "    }\n",
        ")"
      ]
    },
    {
      "cell_type": "code",
      "execution_count": 22,
      "id": "7b186c59-2b48-486b-bc81-bb398520345a",
      "metadata": {
        "id": "7b186c59-2b48-486b-bc81-bb398520345a"
      },
      "outputs": [],
      "source": [
        "matches = results[\"matches\"]\n",
        "\n",
        "# Extract review_ids from the matches (convert them to int if necessary)\n",
        "matched_ids = [int(match[\"metadata\"][\"review_id\"]) for match in matches]"
      ]
    },
    {
      "cell_type": "code",
      "execution_count": 23,
      "id": "a4aef9bb-33be-49bf-92f3-b7412514c5ce",
      "metadata": {
        "colab": {
          "base_uri": "https://localhost:8080/"
        },
        "id": "a4aef9bb-33be-49bf-92f3-b7412514c5ce",
        "outputId": "d6f7f2f9-3db4-4647-fab5-534b948e6aad"
      },
      "outputs": [
        {
          "data": {
            "text/plain": [
              "[5410, 8647, 11531, 2910, 2593]"
            ]
          },
          "execution_count": 23,
          "metadata": {},
          "output_type": "execute_result"
        }
      ],
      "source": [
        "matched_ids"
      ]
    },
    {
      "cell_type": "code",
      "execution_count": 24,
      "id": "88c95303-869e-4158-8f46-50f91f07f0d0",
      "metadata": {
        "id": "88c95303-869e-4158-8f46-50f91f07f0d0"
      },
      "outputs": [],
      "source": [
        "req_df = df[df[\"review_id\"].isin(matched_ids)]"
      ]
    },
    {
      "cell_type": "code",
      "execution_count": 25,
      "id": "2759e5c9-9e8d-4029-9d6e-afc8e10b5214",
      "metadata": {
        "colab": {
          "base_uri": "https://localhost:8080/",
          "height": 241
        },
        "id": "2759e5c9-9e8d-4029-9d6e-afc8e10b5214",
        "outputId": "2a30f05d-1406-49ab-fec5-a23e3b5e0fbb"
      },
      "outputs": [
        {
          "data": {
            "text/html": [
              "<div>\n",
              "<style scoped>\n",
              "    .dataframe tbody tr th:only-of-type {\n",
              "        vertical-align: middle;\n",
              "    }\n",
              "\n",
              "    .dataframe tbody tr th {\n",
              "        vertical-align: top;\n",
              "    }\n",
              "\n",
              "    .dataframe thead th {\n",
              "        text-align: right;\n",
              "    }\n",
              "</style>\n",
              "<table border=\"1\" class=\"dataframe\">\n",
              "  <thead>\n",
              "    <tr style=\"text-align: right;\">\n",
              "      <th></th>\n",
              "      <th>Review</th>\n",
              "    </tr>\n",
              "  </thead>\n",
              "  <tbody>\n",
              "    <tr>\n",
              "      <th>486</th>\n",
              "      <td>Shower taps need descaling horrid smell from ...</td>\n",
              "    </tr>\n",
              "    <tr>\n",
              "      <th>1622</th>\n",
              "      <td>The people working on the terrace bar are pre...</td>\n",
              "    </tr>\n",
              "    <tr>\n",
              "      <th>2018</th>\n",
              "      <td>When we arrived to check in there was a misun...</td>\n",
              "    </tr>\n",
              "    <tr>\n",
              "      <th>5794</th>\n",
              "      <td>Having to pay for one item I used in the mini...</td>\n",
              "    </tr>\n",
              "    <tr>\n",
              "      <th>8249</th>\n",
              "      <td>Loved everything only negative was STK We wer...</td>\n",
              "    </tr>\n",
              "  </tbody>\n",
              "</table>\n",
              "</div><br><label><b>dtype:</b> object</label>"
            ],
            "text/plain": [
              "486      Shower taps need descaling horrid smell from ...\n",
              "1622     The people working on the terrace bar are pre...\n",
              "2018     When we arrived to check in there was a misun...\n",
              "5794     Having to pay for one item I used in the mini...\n",
              "8249     Loved everything only negative was STK We wer...\n",
              "Name: Review, dtype: object"
            ]
          },
          "execution_count": 25,
          "metadata": {},
          "output_type": "execute_result"
        }
      ],
      "source": [
        "req_df['Review']"
      ]
    },
    {
      "cell_type": "code",
      "execution_count": 26,
      "id": "6dcc3a65-aa69-43ce-bc4a-f05032488309",
      "metadata": {
        "id": "6dcc3a65-aa69-43ce-bc4a-f05032488309"
      },
      "outputs": [],
      "source": [
        "concatenated_reviews = \" \".join(req_df[\"Review\"].tolist())"
      ]
    },
    {
      "cell_type": "code",
      "execution_count": 27,
      "id": "dea2efd4-f14e-4f6b-af3d-2320a15382c2",
      "metadata": {
        "colab": {
          "base_uri": "https://localhost:8080/",
          "height": 227
        },
        "id": "dea2efd4-f14e-4f6b-af3d-2320a15382c2",
        "outputId": "e5f163bf-5a6a-4046-f325-538363061186"
      },
      "outputs": [
        {
          "data": {
            "application/vnd.google.colaboratory.intrinsic+json": {
              "type": "string"
            },
            "text/plain": [
              "' Shower taps need descaling horrid smell from drains the new booth seating is so unfriendly the older decor made more sense New menu card room dining not advisable limited choice of average food Tea cakes were cold from fridge so cream in the cakes was There were no more small tasty affordable snacks like the crab cakes of tandoori salmon or tatty etc Pity You lost 15 customers who went to eat elsewhere daily for 3 days   location  The people working on the terrace bar are pretty slow preparing beverages so you need to be patient awaiting your order especially when you can see quite a lot of people up there We were forced to cancel our order after 40 minutes waiting as we had another appointment planned after   The location of the hotel is just perfect 150m to Diagonal Metro station Rambla is just 300 m away So for our family tour with some sightseeing and enjoying good restaurants this was a perfect choice The hotel is very comfortable and quiet You can have rest on the terrace bar with a breathtaking view of Barcelona especially illuminated Sagrada Familia in the night   When we arrived to check in there was a misunderstanding about whether we had made full payment including breakfast Actually we had already paid everything ie breakfast hotel tax and tourist tax but the check in staff said that I had paid only for the room and nothing else Fortunately I had a credit card statement from my bank to dispute this Also luckily on the day we checked out another front desk staff Klaudios was on duty and he confirmed that I had paid for everything in advance Actually I don t think it was fair for hotel to charge us the tourist tax in advance   The front desk staff were quite helpful  Having to pay for one item I used in the mini bar They tried to say I had used two when I hadn t I understand it s London prices but for think everything was expensive and the breakfast was extortionate I think having paid nearly 300 for two nights we may have got even one free bottle of water Also think the fact you have to pay upfront for your room expected this and then 50 a night depsoit is pretty bad as it didn t state this anywhere and I could have been relying on that 100 for my weekend away however luckily I wasn t On the Sunday we went to the Chico Latino bar and we were sat waiting 20 minutes from getting there to receiving our drink Feel like it s because we weren t a big party so they weren t concentrating on the two of us as much   Amazing room with really good facilities Excellent location it was a ten minute walk to the right to Big Ben Westminster bridge London eye and to the left was a ten minutes walk to the Vauxhall tube station Didn t spend much time in the room as we were on the go for the three days we spent there The staff we re really friendly and I could tell if we had any queries or needed any help they would have more than happy to help The concierge men were so friendly and went out their way to make conversation and to make you feel welcome The hotel was sparkling clean and smelt amazing I couldn t fault one thing with regards to the appearance of the hotel and the room Also the singer on the Saturday night at Chico Latino bar was really good and enjoyed listening to him   Loved everything only negative was STK We were looking so forward to dinner there however it was like a loud club at 10pm with drunk loud folk coming in to just drink and dance Better to go for lunch as opposed to dinner  Charming helpful staff Great breakfast Loved the mood lighting and music in room too'"
            ]
          },
          "execution_count": 27,
          "metadata": {},
          "output_type": "execute_result"
        }
      ],
      "source": [
        "concatenated_reviews"
      ]
    },
    {
      "cell_type": "code",
      "execution_count": 29,
      "id": "mQE_fdJS2ARO",
      "metadata": {
        "colab": {
          "base_uri": "https://localhost:8080/"
        },
        "id": "mQE_fdJS2ARO",
        "outputId": "a483fda1-28d8-4dd2-f445-64674d824f92"
      },
      "outputs": [
        {
          "name": "stdout",
          "output_type": "stream",
          "text": [
            "Collecting together\n",
            "  Downloading together-1.4.1-py3-none-any.whl.metadata (12 kB)\n",
            "Requirement already satisfied: aiohttp<4.0.0,>=3.9.3 in /usr/local/lib/python3.11/dist-packages (from together) (3.11.13)\n",
            "Requirement already satisfied: click<9.0.0,>=8.1.7 in /usr/local/lib/python3.11/dist-packages (from together) (8.1.8)\n",
            "Collecting eval-type-backport<0.3.0,>=0.1.3 (from together)\n",
            "  Downloading eval_type_backport-0.2.2-py3-none-any.whl.metadata (2.2 kB)\n",
            "Requirement already satisfied: filelock<4.0.0,>=3.13.1 in /usr/local/lib/python3.11/dist-packages (from together) (3.17.0)\n",
            "Requirement already satisfied: numpy>=1.23.5 in /usr/local/lib/python3.11/dist-packages (from together) (1.26.4)\n",
            "Requirement already satisfied: pillow<12.0.0,>=11.1.0 in /usr/local/lib/python3.11/dist-packages (from together) (11.1.0)\n",
            "Requirement already satisfied: pyarrow>=10.0.1 in /usr/local/lib/python3.11/dist-packages (from together) (18.1.0)\n",
            "Requirement already satisfied: pydantic<3.0.0,>=2.6.3 in /usr/local/lib/python3.11/dist-packages (from together) (2.10.6)\n",
            "Requirement already satisfied: requests<3.0.0,>=2.31.0 in /usr/local/lib/python3.11/dist-packages (from together) (2.32.3)\n",
            "Requirement already satisfied: rich<14.0.0,>=13.8.1 in /usr/local/lib/python3.11/dist-packages (from together) (13.9.4)\n",
            "Requirement already satisfied: tabulate<0.10.0,>=0.9.0 in /usr/local/lib/python3.11/dist-packages (from together) (0.9.0)\n",
            "Requirement already satisfied: tqdm<5.0.0,>=4.66.2 in /usr/local/lib/python3.11/dist-packages (from together) (4.67.1)\n",
            "Requirement already satisfied: typer<0.16,>=0.9 in /usr/local/lib/python3.11/dist-packages (from together) (0.15.1)\n",
            "Requirement already satisfied: aiohappyeyeballs>=2.3.0 in /usr/local/lib/python3.11/dist-packages (from aiohttp<4.0.0,>=3.9.3->together) (2.4.6)\n",
            "Requirement already satisfied: aiosignal>=1.1.2 in /usr/local/lib/python3.11/dist-packages (from aiohttp<4.0.0,>=3.9.3->together) (1.3.2)\n",
            "Requirement already satisfied: attrs>=17.3.0 in /usr/local/lib/python3.11/dist-packages (from aiohttp<4.0.0,>=3.9.3->together) (25.1.0)\n",
            "Requirement already satisfied: frozenlist>=1.1.1 in /usr/local/lib/python3.11/dist-packages (from aiohttp<4.0.0,>=3.9.3->together) (1.5.0)\n",
            "Requirement already satisfied: multidict<7.0,>=4.5 in /usr/local/lib/python3.11/dist-packages (from aiohttp<4.0.0,>=3.9.3->together) (6.1.0)\n",
            "Requirement already satisfied: propcache>=0.2.0 in /usr/local/lib/python3.11/dist-packages (from aiohttp<4.0.0,>=3.9.3->together) (0.3.0)\n",
            "Requirement already satisfied: yarl<2.0,>=1.17.0 in /usr/local/lib/python3.11/dist-packages (from aiohttp<4.0.0,>=3.9.3->together) (1.18.3)\n",
            "Requirement already satisfied: annotated-types>=0.6.0 in /usr/local/lib/python3.11/dist-packages (from pydantic<3.0.0,>=2.6.3->together) (0.7.0)\n",
            "Requirement already satisfied: pydantic-core==2.27.2 in /usr/local/lib/python3.11/dist-packages (from pydantic<3.0.0,>=2.6.3->together) (2.27.2)\n",
            "Requirement already satisfied: typing-extensions>=4.12.2 in /usr/local/lib/python3.11/dist-packages (from pydantic<3.0.0,>=2.6.3->together) (4.12.2)\n",
            "Requirement already satisfied: charset-normalizer<4,>=2 in /usr/local/lib/python3.11/dist-packages (from requests<3.0.0,>=2.31.0->together) (3.4.1)\n",
            "Requirement already satisfied: idna<4,>=2.5 in /usr/local/lib/python3.11/dist-packages (from requests<3.0.0,>=2.31.0->together) (3.10)\n",
            "Requirement already satisfied: urllib3<3,>=1.21.1 in /usr/local/lib/python3.11/dist-packages (from requests<3.0.0,>=2.31.0->together) (2.3.0)\n",
            "Requirement already satisfied: certifi>=2017.4.17 in /usr/local/lib/python3.11/dist-packages (from requests<3.0.0,>=2.31.0->together) (2025.1.31)\n",
            "Requirement already satisfied: markdown-it-py>=2.2.0 in /usr/local/lib/python3.11/dist-packages (from rich<14.0.0,>=13.8.1->together) (3.0.0)\n",
            "Requirement already satisfied: pygments<3.0.0,>=2.13.0 in /usr/local/lib/python3.11/dist-packages (from rich<14.0.0,>=13.8.1->together) (2.18.0)\n",
            "Requirement already satisfied: shellingham>=1.3.0 in /usr/local/lib/python3.11/dist-packages (from typer<0.16,>=0.9->together) (1.5.4)\n",
            "Requirement already satisfied: mdurl~=0.1 in /usr/local/lib/python3.11/dist-packages (from markdown-it-py>=2.2.0->rich<14.0.0,>=13.8.1->together) (0.1.2)\n",
            "Downloading together-1.4.1-py3-none-any.whl (80 kB)\n",
            "\u001b[2K   \u001b[90m━━━━━━━━━━━━━━━━━━━━━━━━━━━━━━━━━━━━━━━━\u001b[0m \u001b[32m80.5/80.5 kB\u001b[0m \u001b[31m2.0 MB/s\u001b[0m eta \u001b[36m0:00:00\u001b[0m\n",
            "\u001b[?25hDownloading eval_type_backport-0.2.2-py3-none-any.whl (5.8 kB)\n",
            "Installing collected packages: eval-type-backport, together\n",
            "Successfully installed eval-type-backport-0.2.2 together-1.4.1\n"
          ]
        }
      ],
      "source": [
        "!pip install together"
      ]
    },
    {
      "cell_type": "code",
      "execution_count": 30,
      "id": "a89e76de-311f-468a-b790-525c9821d839",
      "metadata": {
        "colab": {
          "base_uri": "https://localhost:8080/"
        },
        "id": "a89e76de-311f-468a-b790-525c9821d839",
        "outputId": "13e05bcc-7464-44ba-acd1-26a2fa81f2e1"
      },
      "outputs": [
        {
          "name": "stdout",
          "output_type": "stream",
          "text": [
            "Here is a summary of the overall sentiment of customers about food and restaurants based on the reviews:\n",
            "\n",
            "**Food and Restaurants:**\n",
            "\n",
            "* Most customers were disappointed with the food options, citing limited choice, average taste, and high prices.\n",
            "* Specific issues included tea cakes being cold, lack of small, affordable snacks, and slow service at the terrace bar.\n",
            "* However, some customers enjoyed the breakfast, but found it to be extortionate.\n",
            "* One restaurant, STK, was criticized for being too loud and attracting a rowdy crowd, especially in the evenings.\n",
            "\n",
            "**General Sentiment:**\n",
            "\n",
            "* Some customers mentioned that the hotel's location was perfect, with easy access to public transportation and amenities.\n",
            "* However, the overall sentiment towards the hotel's food and drink options was overwhelmingly negative.\n"
          ]
        }
      ],
      "source": [
        "from together import Together\n",
        "import os\n",
        "client = Together()\n",
        "response = client.chat.completions.create(\n",
        "    model=\"meta-llama/Llama-Vision-Free\",\n",
        "    messages = [{\"role\": \"user\", \"content\": f\"\"\"Briefly Summarize the overall sentiment of customers about food and restaurant based on these reviews - {\n",
        "    concatenated_reviews}. Dont mention the name of the hotel\"\"\"}]\n",
        ")\n",
        "print(response.choices[0].message.content)\n"
      ]
    }
  ],
  "metadata": {
    "colab": {
      "provenance": []
    },
    "kernelspec": {
      "display_name": "Python 3 (ipykernel)",
      "language": "python",
      "name": "python3"
    },
    "language_info": {
      "codemirror_mode": {
        "name": "ipython",
        "version": 3
      },
      "file_extension": ".py",
      "mimetype": "text/x-python",
      "name": "python",
      "nbconvert_exporter": "python",
      "pygments_lexer": "ipython3",
      "version": "3.11.7"
    }
  },
  "nbformat": 4,
  "nbformat_minor": 5
}
